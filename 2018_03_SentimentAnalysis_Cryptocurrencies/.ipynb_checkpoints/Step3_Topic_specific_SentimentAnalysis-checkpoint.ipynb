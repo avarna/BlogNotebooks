{
 "cells": [
  {
   "cell_type": "code",
   "execution_count": 1,
   "metadata": {},
   "outputs": [
    {
     "name": "stderr",
     "output_type": "stream",
     "text": [
      "Using TensorFlow backend.\n"
     ]
    }
   ],
   "source": [
    "import numpy as np\n",
    "import pandas as pd\n",
    "import re\n",
    "\n",
    "from news_text_clean import *\n",
    "\n",
    "import pickle\n",
    "from keras.models import load_model\n",
    "from keras.preprocessing.sequence import pad_sequences\n",
    "from keras.utils import np_utils\n",
    "\n",
    "from datetime import datetime, timedelta\n",
    "\n",
    "import matplotlib.pyplot as plt\n",
    "from matplotlib.dates import DayLocator,DateFormatter,MonthLocator,YearLocator"
   ]
  },
  {
   "cell_type": "code",
   "execution_count": 2,
   "metadata": {},
   "outputs": [],
   "source": [
    "def topic_classification(text):\n",
    "    # Function to identify topic from a given text\n",
    "    # topic_list will be: ['ICO','bitcoin','currency,currenc'] \n",
    "    # Each topic can have multiple key words separated by comma. E.g: currency,currenc\n",
    "    \n",
    "    topic_xl = pd.read_excel('data/topic_list.xlsx')\n",
    "    topic_list = topic_xl['Keywords'].tolist()\n",
    "    \n",
    "    topic_out = []\n",
    "    for topic in topic_list:\n",
    "        dup_names = topic.split(',')\n",
    "        for name in dup_names:\n",
    "            if name.lower() in text.lower():\n",
    "                topic_out.append(dup_names[0])\n",
    "                break\n",
    "    \n",
    "    # Check for empty list\n",
    "    if not topic_out:\n",
    "        topic_out = np.nan \n",
    "                \n",
    "    return topic_out\n"
   ]
  },
  {
   "cell_type": "code",
   "execution_count": 3,
   "metadata": {},
   "outputs": [],
   "source": [
    "# Import and clean the data\n",
    "data = pd.read_json('data/data_all_2600.json')\n",
    "data = news_text_clean(data)\n",
    "\n",
    "# Identify the topic\n",
    "data['topic'] = data['title'].apply(topic_classification)\n",
    "\n",
    "# Drop rows which do not have topic\n",
    "data.dropna(subset=['topic'], inplace=True)\n",
    "\n",
    "# Load sentiment model\n",
    "max_words = 500\n",
    "\n",
    "model = load_model('model_content_1.h5')\n",
    "tokeniz = pickle.load(open('tokenizer_content_1.p','rb')) # Load presaved tokenizer\n",
    "\n",
    "X_data = tokeniz.texts_to_sequences(data['contents'].values)\n",
    "X_data = pad_sequences(X_data, maxlen=max_words, truncating='post')\n",
    "\n",
    "Y_prob = model.predict(X_data)\n",
    "\n",
    "Y_class = np.argmax(Y_prob, axis=1)-1\n",
    "\n",
    "data['Sentiment'] = Y_class"
   ]
  },
  {
   "cell_type": "code",
   "execution_count": 6,
   "metadata": {},
   "outputs": [
    {
     "name": "stdout",
     "output_type": "stream",
     "text": [
      "author                                             Stan Higgins\n",
      "checksum      2da8beb646993e71495d6a1fbf73ffbd004f2ad91b28a9...\n",
      "contents      Major insurance groups AIG and AIA are among  ...\n",
      "created_at                           2017-10-04 09:56:18.079000\n",
      "date                                        2017-10-02 22:00:56\n",
      "id                                                          137\n",
      "link          https://www.coindesk.com/aia-aig-join-b3i-bloc...\n",
      "provider                                               CoinDesk\n",
      "tags                  [Insurance, consortium, reinsurance, B3i]\n",
      "title         AIA and AIG Join Bi as Blockchain Consortium A...\n",
      "updated_at                           2017-10-04 09:56:18.079000\n",
      "topic                                              [blockchain]\n",
      "Sentiment                                                     1\n",
      "Name: 10, dtype: object\n"
     ]
    }
   ],
   "source": [
    "print(data.loc[10,:]) # Sample data"
   ]
  },
  {
   "cell_type": "code",
   "execution_count": 5,
   "metadata": {},
   "outputs": [
    {
     "data": {
      "image/png": "[encoded data removed]",
      "text/plain": [
       "<matplotlib.figure.Figure at 0x106b138d0>"
      ]
     },
     "metadata": {},
     "output_type": "display_data"
    }
   ],
   "source": [
    "# User input\n",
    "usr_topic = 'bitcoin'\n",
    "usr_startDate = '2017-08-01'\n",
    "usr_endDate = '2017-10-01'\n",
    "\n",
    "format_startTime = datetime.strptime(usr_startDate, \"%Y-%m-%d\") #This converts STRING to date object with time\n",
    "startDate = format_startTime.date() # This removes time\n",
    "endDate = datetime.strptime(usr_endDate, \"%Y-%m-%d\").date()\n",
    "\n",
    "period=endDate-startDate\n",
    "\n",
    "# Initialize scores\n",
    "score={}\n",
    "count={}\n",
    "for i in range(period.days+1):\n",
    "    score[(startDate + timedelta(days=i))]=0\n",
    "    count[(startDate + timedelta(days=i))]=0\n",
    "\n",
    "# Calculating scores\n",
    "for i in range(len(data)):\n",
    "    \n",
    "    if ( (data.iloc[i]['date'].date()>=startDate) and \n",
    "         (data.iloc[i]['date'].date()<=endDate)):\n",
    "        \n",
    "        topic_list = [x.lower() for x in data.iloc[i]['topic']]\n",
    "        if (usr_topic.lower() in topic_list):\n",
    "            score[data.iloc[i]['date'].date()] = score[data.iloc[i]['date'].date()] + data.iloc[i]['Sentiment']\n",
    "            count[data.iloc[i]['date'].date()]+=1\n",
    "    \n",
    "\n",
    "for i in range(period.days+1):\n",
    "    if not (count[(startDate + timedelta(days=i))]):\n",
    "        del score[(startDate + timedelta(days=i))]\n",
    "\n",
    "    \n",
    "list_score = sorted(score.items()) # sorted by key, return a list of tuples\n",
    "x, y = zip(*list_score) # unpack a list of pairs into two tuples\n",
    "\n",
    "y_zero = np.zeros((len(x),1))\n",
    "\n",
    "fig, ax = plt.subplots(ncols=1)\n",
    "ax.plot(x,y,marker='o',c='k', ls='-')\n",
    "ax.plot(x,y_zero,':k')\n",
    "\n",
    "\n",
    "if (period.days<7):\n",
    "    ax.xaxis.set_major_locator(DayLocator(interval=1))#MonthLocator/DateLocator\n",
    "    ax.xaxis.set_major_formatter(DateFormatter('%d %b'))\n",
    "elif (period.days<30):\n",
    "    ax.xaxis.set_major_locator(DayLocator(interval=5))\n",
    "    ax.xaxis.set_major_formatter(DateFormatter('%d %b'))\n",
    "elif (period.days<180):\n",
    "    ax.xaxis.set_major_locator(MonthLocator(interval=1))\n",
    "    ax.xaxis.set_major_formatter(DateFormatter('%b %Y'))\n",
    "elif (period.days<365):\n",
    "    ax.xaxis.set_major_locator(MonthLocator(interval=2))\n",
    "    ax.xaxis.set_major_formatter(DateFormatter('%b %Y'))\n",
    "else:\n",
    "    ax.xaxis.set_major_locator(YearLocator(interval=1))\n",
    "    ax.xaxis.set_major_formatter(DateFormatter('%Y'))\n",
    "    \n",
    "ax.set_ylabel('Sentiment', fontsize=15)\n",
    "ax.set_title(usr_topic+' sentiment')\n",
    "plt.show()"
   ]
  },
  {
   "cell_type": "markdown",
   "metadata": {},
   "source": [
    "# Explanation\n",
    "In this final script, the sentiment of the public towards cryptocurrencies is tracked. Most (95%) of the Coindesk articles are related to a small list of topics given in \"topic_list.xlsx\". First, a simple function (topic_classification(text)) can be used to determine the topic of a given news article from this small list. Second, the CNN model, trained in the 2nd IPython notebook, can be used to determine the sentiment of news articles. Finally, the sentiment of news articles related to a particular topic (e.g. Bitcoin) can be tracked within a given period."
   ]
  }
 ],
 "metadata": {
  "kernelspec": {
   "display_name": "Python 3",
   "language": "python",
   "name": "python3"
  },
  "language_info": {
   "codemirror_mode": {
    "name": "ipython",
    "version": 3
   },
   "file_extension": ".py",
   "mimetype": "text/x-python",
   "name": "python",
   "nbconvert_exporter": "python",
   "pygments_lexer": "ipython3",
   "version": "3.6.1"
  }
 },
 "nbformat": 4,
 "nbformat_minor": 2
}
