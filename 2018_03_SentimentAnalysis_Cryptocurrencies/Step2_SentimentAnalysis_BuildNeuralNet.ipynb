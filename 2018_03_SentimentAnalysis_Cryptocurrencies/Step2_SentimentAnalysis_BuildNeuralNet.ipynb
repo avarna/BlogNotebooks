{
 "cells": [
  {
   "cell_type": "code",
   "execution_count": 1,
   "metadata": {},
   "outputs": [
    {
     "name": "stderr",
     "output_type": "stream",
     "text": [
      "Using TensorFlow backend.\n"
     ]
    }
   ],
   "source": [
    "import numpy as np\n",
    "import pandas as pd\n",
    "import pickle\n",
    "\n",
    "from news_text_clean import *\n",
    "\n",
    "import matplotlib.pyplot as plt\n",
    "\n",
    "from sklearn.model_selection import train_test_split\n",
    "\n",
    "from keras.models import Sequential, load_model\n",
    "from keras.layers import Dense, Flatten, Dropout\n",
    "from keras.layers.convolutional import Conv1D, MaxPooling1D\n",
    "from keras.layers.embeddings import Embedding\n",
    "from keras.preprocessing.sequence import pad_sequences\n",
    "from keras.preprocessing.text import Tokenizer\n",
    "from keras.utils import np_utils\n",
    "\n",
    "# Fix random seed for reproducibility\n",
    "np.random.seed(7) \n",
    "from tensorflow import set_random_seed\n",
    "set_random_seed(2)"
   ]
  },
  {
   "cell_type": "code",
   "execution_count": 2,
   "metadata": {},
   "outputs": [],
   "source": [
    "# Load the data\n",
    "data1 = pd.read_json('data/manualVerified_senti_2600.json')\n",
    "\n",
    "# Shuffle the data\n",
    "data = data1.sample(frac=1,random_state=11).reset_index(drop=True)\n",
    "\n",
    "# Clean the data\n",
    "data = news_text_clean(data)"
   ]
  },
  {
   "cell_type": "code",
   "execution_count": 3,
   "metadata": {},
   "outputs": [
    {
     "name": "stdout",
     "output_type": "stream",
     "text": [
      "Total numbers of words in the dataset =  31332\n",
      "Counts of Negative, Neutral and Positive article = (array([0, 1, 2]), array([ 475,  608, 1143]))\n"
     ]
    },
    {
     "name": "stderr",
     "output_type": "stream",
     "text": [
      "/Library/Frameworks/Python.framework/Versions/3.6/lib/python3.6/site-packages/sklearn/model_selection/_split.py:2010: FutureWarning: From version 0.21, test_size will always complement train_size unless both are specified.\n",
      "  FutureWarning)\n"
     ]
    }
   ],
   "source": [
    "# USER INPUT\n",
    "top_words = 10000 # Keep only the top 10000 frequently occuring words\n",
    "max_words = 500 # Max words to consider in a given article\n",
    "embed_dim = 32\n",
    "\n",
    "# Preprocess the text (Convert words to numbers)\n",
    "tokeniz = Tokenizer(num_words=top_words, split=' ')\n",
    "tokeniz.fit_on_texts(data['contents'].values)\n",
    "\n",
    "word_index = tokeniz.word_index\n",
    "print('Total numbers of words in the dataset = ', len(word_index))\n",
    "\n",
    "X_data = tokeniz.texts_to_sequences(data['contents'].values)\n",
    "X_data = pad_sequences(X_data, maxlen=max_words, truncating='post')\n",
    "\n",
    "# Negative, neutral & positive sentiments are -1, 0 & 1 in data. Convert it to 0, 1 & 2\n",
    "y_data = data['Sentiment']+1 \n",
    "\n",
    "# Split the data into train (90% of the data) and test data\n",
    "X_train, X_test, y_train, y_test = train_test_split(X_data, y_data, train_size=0.9, random_state=1)\n",
    "\n",
    "print('Counts of Negative, Neutral and Positive article =',np.unique(y_train,return_counts=True))\n",
    "\n",
    "Y_train = np_utils.to_categorical(y_train, 3)\n",
    "Y_test = np_utils.to_categorical(y_test, 3)"
   ]
  },
  {
   "cell_type": "code",
   "execution_count": 4,
   "metadata": {},
   "outputs": [
    {
     "name": "stdout",
     "output_type": "stream",
     "text": [
      "_________________________________________________________________\n",
      "Layer (type)                 Output Shape              Param #   \n",
      "=================================================================\n",
      "embedding_1 (Embedding)      (None, 500, 32)           320000    \n",
      "_________________________________________________________________\n",
      "conv1d_1 (Conv1D)            (None, 500, 32)           5152      \n",
      "_________________________________________________________________\n",
      "max_pooling1d_1 (MaxPooling1 (None, 166, 32)           0         \n",
      "_________________________________________________________________\n",
      "flatten_1 (Flatten)          (None, 5312)              0         \n",
      "_________________________________________________________________\n",
      "dense_1 (Dense)              (None, 64)                340032    \n",
      "_________________________________________________________________\n",
      "dense_2 (Dense)              (None, 3)                 195       \n",
      "=================================================================\n",
      "Total params: 665,379\n",
      "Trainable params: 665,379\n",
      "Non-trainable params: 0\n",
      "_________________________________________________________________\n",
      "None\n",
      "Train on 2003 samples, validate on 223 samples\n",
      "Epoch 1/5\n",
      "2003/2003 [==============================] - 1s - loss: 1.0005 - acc: 0.5097 - val_loss: 0.9688 - val_acc: 0.5202\n",
      "Epoch 2/5\n",
      "2003/2003 [==============================] - 1s - loss: 0.8913 - acc: 0.5911 - val_loss: 0.8654 - val_acc: 0.5740\n",
      "Epoch 3/5\n",
      "2003/2003 [==============================] - 1s - loss: 0.6331 - acc: 0.7459 - val_loss: 0.7174 - val_acc: 0.6816\n",
      "Epoch 4/5\n",
      "2003/2003 [==============================] - 1s - loss: 0.3238 - acc: 0.9171 - val_loss: 0.6995 - val_acc: 0.7399\n",
      "Epoch 5/5\n",
      "2003/2003 [==============================] - 1s - loss: 0.1182 - acc: 0.9840 - val_loss: 0.7294 - val_acc: 0.7130\n"
     ]
    },
    {
     "data": {
      "text/plain": [
       "<keras.callbacks.History at 0x109d15fd0>"
      ]
     },
     "execution_count": 4,
     "metadata": {},
     "output_type": "execute_result"
    }
   ],
   "source": [
    "# Build the CNN model\n",
    "model = Sequential()\n",
    "\n",
    "model.add(Embedding(top_words, embed_dim, input_length=max_words))\n",
    "\n",
    "model.add(Conv1D(filters=32, kernel_size=5, padding='same', activation='relu'))\n",
    "model.add(MaxPooling1D(pool_size=3))\n",
    "\n",
    "model.add(Flatten())\n",
    "\n",
    "model.add(Dense(64, activation='relu'))\n",
    "\n",
    "model.add(Dense(3, activation='softmax'))\n",
    "\n",
    "model.compile(loss='categorical_crossentropy', optimizer='adam', metrics=['accuracy'])\n",
    "\n",
    "print(model.summary())\n",
    "\n",
    "model.fit(X_train, Y_train, epochs=5, batch_size=64, validation_split=0.1, verbose=1)"
   ]
  },
  {
   "cell_type": "code",
   "execution_count": 5,
   "metadata": {},
   "outputs": [
    {
     "name": "stdout",
     "output_type": "stream",
     "text": [
      "Accuracy of the CNN is 63.7096774194 %\n",
      "[[ 21  20   8]\n",
      " [  6  32  24]\n",
      " [  3  29 105]]\n"
     ]
    },
    {
     "data": {
      "image/png": "[encoded data removed]",
      "text/plain": [
       "<matplotlib.figure.Figure at 0x1187aa1d0>"
      ]
     },
     "metadata": {},
     "output_type": "display_data"
    }
   ],
   "source": [
    "# Apply the model on the test set data\n",
    "Y_prob = model.predict(X_test)\n",
    "Y_class = np.argmax(Y_prob, axis=1)\n",
    "\n",
    "scores = model.evaluate(X_test, Y_test, verbose=0)\n",
    "print(\"Accuracy of the CNN is\", scores[1]*100, \"%\")\n",
    "\n",
    "# Calculate confusion matrix from sklearn\n",
    "from sklearn.metrics import confusion_matrix\n",
    "confu_mat = confusion_matrix(y_test, Y_class)\n",
    "\n",
    "print(confu_mat)\n",
    "\n",
    "# Create a Pandas dataframe for Seaborn\n",
    "confu_df = pd.DataFrame(confu_mat, columns=['Pred_0','Pred_1','Pred_2'], index=['True_0','True_1','True_2'])\n",
    "\n",
    "plt.figure\n",
    "import seaborn as sn\n",
    "sn.heatmap(confu_df, annot=True)\n",
    "plt.show()\n"
   ]
  },
  {
   "cell_type": "code",
   "execution_count": 6,
   "metadata": {},
   "outputs": [],
   "source": [
    "# Save the model and tokenizer\n",
    "model.save('model_content_1.h5')\n",
    "pickle.dump(tokeniz, open('tokenizer_content_1.p','wb'))"
   ]
  },
  {
   "cell_type": "markdown",
   "metadata": {},
   "source": [
    "# Explanation\n",
    "A Convolutional Neural Network (CNN) is trained using the labelled data in this 2nd Python script. In the first step, the labelled data containing 2500 articles from Coindesk website are imported and cleaned to remove numbers and other noises (refer \"news_text_clean.py\" script). Next, the words are tokenized (only the top 10000 frequently occuring words among the 2500 articles are kept in the vocabulary and only the first 500 words of an article are considered for the determination of sentiment). The data is split into traning (90%) and test set (10%), and 10% of the training set is used as the validation set. Finally, the CNN model is fit to the training data and is saved along with the tokenizer.\n",
    "\n",
    "The accuracy of the CNN model on the validation set is around 70% and on the test set is around 65%. The confusion matrix of the test set shows that the negative and positive articles have been classified well. The CNN model seems to be confused while classifying neutral articles. To be honest, it was confusing for me to differentiate between the positive and neutral, and negative and neutral articles. I am not surprised that the CNN is also facing the same problem. Further optimization of the CNN architecture and bigger and better training data set could improve the accuracy of the CNN model."
   ]
  }
 ],
 "metadata": {
  "kernelspec": {
   "display_name": "Python 3",
   "language": "python",
   "name": "python3"
  },
  "language_info": {
   "codemirror_mode": {
    "name": "ipython",
    "version": 3
   },
   "file_extension": ".py",
   "mimetype": "text/x-python",
   "name": "python",
   "nbconvert_exporter": "python",
   "pygments_lexer": "ipython3",
   "version": "3.6.1"
  }
 },
 "nbformat": 4,
 "nbformat_minor": 2
}
