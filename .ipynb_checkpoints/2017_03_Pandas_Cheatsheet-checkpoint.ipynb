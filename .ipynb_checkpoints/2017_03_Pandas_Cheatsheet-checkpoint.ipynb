{
 "cells": [
  {
   "cell_type": "code",
   "execution_count": null,
   "metadata": {},
   "outputs": [],
   "source": [
    "\"\"\"\n",
    "References:\n",
    "1) https://www.dataquest.io/blog/pandas-cheat-sheet/\n",
    "2) \n",
    "\"\"\"\n",
    "\n"
   ]
  },
  {
   "cell_type": "code",
   "execution_count": null,
   "metadata": {},
   "outputs": [],
   "source": [
    "\"\"\"\n",
    "____________________\n",
    "Plotting with Pandas\n",
    "____________________\n",
    "\n",
    "References:\n",
    "1) https://pandas.pydata.org/pandas-docs/stable/visualization.html\n",
    "2) https://github.com/Krish-Mahajan/Pandas-Tutorial/blob/master/MachineLearning_withPandas/notebooks/Section2_7-Plotting-with-Pandas.ipynb\n",
    "\"\"\"\n",
    "\n"
   ]
  }
 ],
 "metadata": {
  "kernelspec": {
   "display_name": "Python 3",
   "language": "python",
   "name": "python3"
  },
  "language_info": {
   "codemirror_mode": {
    "name": "ipython",
    "version": 3
   },
   "file_extension": ".py",
   "mimetype": "text/x-python",
   "name": "python",
   "nbconvert_exporter": "python",
   "pygments_lexer": "ipython3",
   "version": "3.6.1"
  }
 },
 "nbformat": 4,
 "nbformat_minor": 2
}
